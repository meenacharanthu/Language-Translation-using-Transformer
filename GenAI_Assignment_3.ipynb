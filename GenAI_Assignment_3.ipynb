{
  "cells": [
    {
      "cell_type": "markdown",
      "id": "05a768a5",
      "metadata": {
        "execution": {
          "iopub.execute_input": "2023-03-07T21:56:23.313623Z",
          "iopub.status.busy": "2023-03-07T21:56:23.313156Z",
          "iopub.status.idle": "2023-03-07T21:56:23.320534Z",
          "shell.execute_reply": "2023-03-07T21:56:23.318865Z",
          "shell.execute_reply.started": "2023-03-07T21:56:23.313584Z"
        },
        "id": "05a768a5",
        "papermill": {
          "duration": 0.009067,
          "end_time": "2023-03-11T21:15:41.733022",
          "exception": false,
          "start_time": "2023-03-11T21:15:41.723955",
          "status": "completed"
        },
        "tags": []
      },
      "source": [
        "# Transformer from scratch\n",
        "\n",
        "\n",
        "The Transformer is then tested on a simple seq2seq task : **translating sentences from English to French**.\n",
        "\n",
        "[<img src=\"https://ar5iv.labs.arxiv.org/html/1706.03762/assets/Figures/ModalNet-21.png\" width=\"300\">](https://arxiv.org/abs/1706.03762)\n",
        "\n",
        "**Steps :**\n",
        "1. [Preparing the data](#Preparing-the-data)\n",
        "2. [Building the Transformer](#Building-the-Transformer)\n",
        "3. [Training the Transformer](#Training-the-Transformer)\n",
        "4. [Testing the Transformer](#Testing-the-Transformer)\n",
        "    \n"
      ]
    },
    {
      "cell_type": "code",
      "execution_count": 1,
      "id": "k5GS0OxcV-sp",
      "metadata": {
        "colab": {
          "base_uri": "https://localhost:8080/"
        },
        "id": "k5GS0OxcV-sp",
        "outputId": "c3d0dd7e-8863-41a4-d607-f67d4cf267ef"
      },
      "outputs": [
        {
          "name": "stdout",
          "output_type": "stream",
          "text": [
            "Mounted at /content/drive\n"
          ]
        }
      ],
      "source": [
        "from google.colab import drive\n",
        "drive.mount('/content/drive')"
      ]
    },
    {
      "cell_type": "code",
      "execution_count": 2,
      "id": "e491dc58",
      "metadata": {
        "execution": {
          "iopub.execute_input": "2023-03-11T21:15:41.750311Z",
          "iopub.status.busy": "2023-03-11T21:15:41.749655Z",
          "iopub.status.idle": "2023-03-11T21:15:48.333591Z",
          "shell.execute_reply": "2023-03-11T21:15:48.332497Z"
        },
        "id": "e491dc58",
        "papermill": {
          "duration": 6.595399,
          "end_time": "2023-03-11T21:15:48.336261",
          "exception": false,
          "start_time": "2023-03-11T21:15:41.740862",
          "status": "completed"
        },
        "tags": []
      },
      "outputs": [],
      "source": [
        "import os\n",
        "import pandas as pd\n",
        "import random\n",
        "import matplotlib.pyplot as plt\n",
        "import tensorflow as tf\n",
        "import string\n",
        "import re\n",
        "import numpy as np\n",
        "import string\n",
        "from nltk.translate.bleu_score import sentence_bleu"
      ]
    },
    {
      "cell_type": "code",
      "execution_count": 3,
      "id": "7a29abd3",
      "metadata": {
        "colab": {
          "base_uri": "https://localhost:8080/"
        },
        "execution": {
          "iopub.execute_input": "2023-03-11T21:15:48.353919Z",
          "iopub.status.busy": "2023-03-11T21:15:48.353342Z",
          "iopub.status.idle": "2023-03-11T21:15:48.539046Z",
          "shell.execute_reply": "2023-03-11T21:15:48.537975Z"
        },
        "id": "7a29abd3",
        "outputId": "14236f20-4779-4ca4-b70b-40ef21318720",
        "papermill": {
          "duration": 0.197258,
          "end_time": "2023-03-11T21:15:48.541669",
          "exception": false,
          "start_time": "2023-03-11T21:15:48.344411",
          "status": "completed"
        },
        "tags": []
      },
      "outputs": [
        {
          "name": "stdout",
          "output_type": "stream",
          "text": [
            "Tensor Flow Version: 2.15.0\n",
            "\n",
            "GPU is AVAILABLE\n"
          ]
        }
      ],
      "source": [
        "print(f\"Tensor Flow Version: {tf.__version__}\")\n",
        "print()\n",
        "gpu = len(tf.config.list_physical_devices('GPU'))>0\n",
        "print(\"GPU is\", \"AVAILABLE\" if gpu else \"NOT AVAILABLE\")"
      ]
    },
    {
      "cell_type": "markdown",
      "id": "68f9ec5f",
      "metadata": {
        "id": "68f9ec5f",
        "papermill": {
          "duration": 0.007735,
          "end_time": "2023-03-11T21:15:48.557506",
          "exception": false,
          "start_time": "2023-03-11T21:15:48.549771",
          "status": "completed"
        },
        "tags": []
      },
      "source": [
        "# Preparing the data"
      ]
    },
    {
      "cell_type": "markdown",
      "id": "3b976abf",
      "metadata": {
        "id": "3b976abf",
        "papermill": {
          "duration": 0.007585,
          "end_time": "2023-03-11T21:15:48.572882",
          "exception": false,
          "start_time": "2023-03-11T21:15:48.565297",
          "status": "completed"
        },
        "tags": []
      },
      "source": [
        "<div style=\"color:#000; display:fill; border-radius:8px; background-color:#000; font-size:125%;\">\n",
        "    <p style=\"padding: 8px 12px 8px 12px; color:#fff;\"><b>Reading the data</b></p>\n",
        "</div>"
      ]
    },
    {
      "cell_type": "code",
      "execution_count": 4,
      "id": "85ddef18",
      "metadata": {
        "colab": {
          "base_uri": "https://localhost:8080/",
          "height": 206
        },
        "execution": {
          "iopub.execute_input": "2023-03-11T21:15:48.590891Z",
          "iopub.status.busy": "2023-03-11T21:15:48.589444Z",
          "iopub.status.idle": "2023-03-11T21:15:49.100476Z",
          "shell.execute_reply": "2023-03-11T21:15:49.099058Z"
        },
        "id": "85ddef18",
        "outputId": "c0e8cf85-201f-4592-a429-ec2489ec9bc1",
        "papermill": {
          "duration": 0.522132,
          "end_time": "2023-03-11T21:15:49.102834",
          "exception": false,
          "start_time": "2023-03-11T21:15:48.580702",
          "status": "completed"
        },
        "tags": []
      },
      "outputs": [
        {
          "data": {
            "text/html": [
              "\n",
              "  <div id=\"df-e2c63513-8811-4fbe-a066-9467b5a75d65\" class=\"colab-df-container\">\n",
              "    <div>\n",
              "<style scoped>\n",
              "    .dataframe tbody tr th:only-of-type {\n",
              "        vertical-align: middle;\n",
              "    }\n",
              "\n",
              "    .dataframe tbody tr th {\n",
              "        vertical-align: top;\n",
              "    }\n",
              "\n",
              "    .dataframe thead th {\n",
              "        text-align: right;\n",
              "    }\n",
              "</style>\n",
              "<table border=\"1\" class=\"dataframe\">\n",
              "  <thead>\n",
              "    <tr style=\"text-align: right;\">\n",
              "      <th></th>\n",
              "      <th>source</th>\n",
              "      <th>target</th>\n",
              "    </tr>\n",
              "  </thead>\n",
              "  <tbody>\n",
              "    <tr>\n",
              "      <th>56508</th>\n",
              "      <td>Show us what you bought.</td>\n",
              "      <td>[start] Montrez-nous ce que vous avez acheté. ...</td>\n",
              "    </tr>\n",
              "    <tr>\n",
              "      <th>56550</th>\n",
              "      <td>Stay out of my business.</td>\n",
              "      <td>[start] Restez en dehors de mes affaires ! [end]</td>\n",
              "    </tr>\n",
              "    <tr>\n",
              "      <th>6567</th>\n",
              "      <td>This is sweet.</td>\n",
              "      <td>[start] C'est gentil. [end]</td>\n",
              "    </tr>\n",
              "    <tr>\n",
              "      <th>48731</th>\n",
              "      <td>I'm kind of sick today.</td>\n",
              "      <td>[start] Je suis un peu malade aujourd'hui. [end]</td>\n",
              "    </tr>\n",
              "    <tr>\n",
              "      <th>142824</th>\n",
              "      <td>Where did you put the television guide?</td>\n",
              "      <td>[start] Où as-tu mis le programme de télévisio...</td>\n",
              "    </tr>\n",
              "  </tbody>\n",
              "</table>\n",
              "</div>\n",
              "    <div class=\"colab-df-buttons\">\n",
              "\n",
              "  <div class=\"colab-df-container\">\n",
              "    <button class=\"colab-df-convert\" onclick=\"convertToInteractive('df-e2c63513-8811-4fbe-a066-9467b5a75d65')\"\n",
              "            title=\"Convert this dataframe to an interactive table.\"\n",
              "            style=\"display:none;\">\n",
              "\n",
              "  <svg xmlns=\"http://www.w3.org/2000/svg\" height=\"24px\" viewBox=\"0 -960 960 960\">\n",
              "    <path d=\"M120-120v-720h720v720H120Zm60-500h600v-160H180v160Zm220 220h160v-160H400v160Zm0 220h160v-160H400v160ZM180-400h160v-160H180v160Zm440 0h160v-160H620v160ZM180-180h160v-160H180v160Zm440 0h160v-160H620v160Z\"/>\n",
              "  </svg>\n",
              "    </button>\n",
              "\n",
              "  <style>\n",
              "    .colab-df-container {\n",
              "      display:flex;\n",
              "      gap: 12px;\n",
              "    }\n",
              "\n",
              "    .colab-df-convert {\n",
              "      background-color: #E8F0FE;\n",
              "      border: none;\n",
              "      border-radius: 50%;\n",
              "      cursor: pointer;\n",
              "      display: none;\n",
              "      fill: #1967D2;\n",
              "      height: 32px;\n",
              "      padding: 0 0 0 0;\n",
              "      width: 32px;\n",
              "    }\n",
              "\n",
              "    .colab-df-convert:hover {\n",
              "      background-color: #E2EBFA;\n",
              "      box-shadow: 0px 1px 2px rgba(60, 64, 67, 0.3), 0px 1px 3px 1px rgba(60, 64, 67, 0.15);\n",
              "      fill: #174EA6;\n",
              "    }\n",
              "\n",
              "    .colab-df-buttons div {\n",
              "      margin-bottom: 4px;\n",
              "    }\n",
              "\n",
              "    [theme=dark] .colab-df-convert {\n",
              "      background-color: #3B4455;\n",
              "      fill: #D2E3FC;\n",
              "    }\n",
              "\n",
              "    [theme=dark] .colab-df-convert:hover {\n",
              "      background-color: #434B5C;\n",
              "      box-shadow: 0px 1px 3px 1px rgba(0, 0, 0, 0.15);\n",
              "      filter: drop-shadow(0px 1px 2px rgba(0, 0, 0, 0.3));\n",
              "      fill: #FFFFFF;\n",
              "    }\n",
              "  </style>\n",
              "\n",
              "    <script>\n",
              "      const buttonEl =\n",
              "        document.querySelector('#df-e2c63513-8811-4fbe-a066-9467b5a75d65 button.colab-df-convert');\n",
              "      buttonEl.style.display =\n",
              "        google.colab.kernel.accessAllowed ? 'block' : 'none';\n",
              "\n",
              "      async function convertToInteractive(key) {\n",
              "        const element = document.querySelector('#df-e2c63513-8811-4fbe-a066-9467b5a75d65');\n",
              "        const dataTable =\n",
              "          await google.colab.kernel.invokeFunction('convertToInteractive',\n",
              "                                                    [key], {});\n",
              "        if (!dataTable) return;\n",
              "\n",
              "        const docLinkHtml = 'Like what you see? Visit the ' +\n",
              "          '<a target=\"_blank\" href=https://colab.research.google.com/notebooks/data_table.ipynb>data table notebook</a>'\n",
              "          + ' to learn more about interactive tables.';\n",
              "        element.innerHTML = '';\n",
              "        dataTable['output_type'] = 'display_data';\n",
              "        await google.colab.output.renderOutput(dataTable, element);\n",
              "        const docLink = document.createElement('div');\n",
              "        docLink.innerHTML = docLinkHtml;\n",
              "        element.appendChild(docLink);\n",
              "      }\n",
              "    </script>\n",
              "  </div>\n",
              "\n",
              "\n",
              "<div id=\"df-57cf084d-d1b0-4d5f-9e9a-51d446417ac5\">\n",
              "  <button class=\"colab-df-quickchart\" onclick=\"quickchart('df-57cf084d-d1b0-4d5f-9e9a-51d446417ac5')\"\n",
              "            title=\"Suggest charts\"\n",
              "            style=\"display:none;\">\n",
              "\n",
              "<svg xmlns=\"http://www.w3.org/2000/svg\" height=\"24px\"viewBox=\"0 0 24 24\"\n",
              "     width=\"24px\">\n",
              "    <g>\n",
              "        <path d=\"M19 3H5c-1.1 0-2 .9-2 2v14c0 1.1.9 2 2 2h14c1.1 0 2-.9 2-2V5c0-1.1-.9-2-2-2zM9 17H7v-7h2v7zm4 0h-2V7h2v10zm4 0h-2v-4h2v4z\"/>\n",
              "    </g>\n",
              "</svg>\n",
              "  </button>\n",
              "\n",
              "<style>\n",
              "  .colab-df-quickchart {\n",
              "      --bg-color: #E8F0FE;\n",
              "      --fill-color: #1967D2;\n",
              "      --hover-bg-color: #E2EBFA;\n",
              "      --hover-fill-color: #174EA6;\n",
              "      --disabled-fill-color: #AAA;\n",
              "      --disabled-bg-color: #DDD;\n",
              "  }\n",
              "\n",
              "  [theme=dark] .colab-df-quickchart {\n",
              "      --bg-color: #3B4455;\n",
              "      --fill-color: #D2E3FC;\n",
              "      --hover-bg-color: #434B5C;\n",
              "      --hover-fill-color: #FFFFFF;\n",
              "      --disabled-bg-color: #3B4455;\n",
              "      --disabled-fill-color: #666;\n",
              "  }\n",
              "\n",
              "  .colab-df-quickchart {\n",
              "    background-color: var(--bg-color);\n",
              "    border: none;\n",
              "    border-radius: 50%;\n",
              "    cursor: pointer;\n",
              "    display: none;\n",
              "    fill: var(--fill-color);\n",
              "    height: 32px;\n",
              "    padding: 0;\n",
              "    width: 32px;\n",
              "  }\n",
              "\n",
              "  .colab-df-quickchart:hover {\n",
              "    background-color: var(--hover-bg-color);\n",
              "    box-shadow: 0 1px 2px rgba(60, 64, 67, 0.3), 0 1px 3px 1px rgba(60, 64, 67, 0.15);\n",
              "    fill: var(--button-hover-fill-color);\n",
              "  }\n",
              "\n",
              "  .colab-df-quickchart-complete:disabled,\n",
              "  .colab-df-quickchart-complete:disabled:hover {\n",
              "    background-color: var(--disabled-bg-color);\n",
              "    fill: var(--disabled-fill-color);\n",
              "    box-shadow: none;\n",
              "  }\n",
              "\n",
              "  .colab-df-spinner {\n",
              "    border: 2px solid var(--fill-color);\n",
              "    border-color: transparent;\n",
              "    border-bottom-color: var(--fill-color);\n",
              "    animation:\n",
              "      spin 1s steps(1) infinite;\n",
              "  }\n",
              "\n",
              "  @keyframes spin {\n",
              "    0% {\n",
              "      border-color: transparent;\n",
              "      border-bottom-color: var(--fill-color);\n",
              "      border-left-color: var(--fill-color);\n",
              "    }\n",
              "    20% {\n",
              "      border-color: transparent;\n",
              "      border-left-color: var(--fill-color);\n",
              "      border-top-color: var(--fill-color);\n",
              "    }\n",
              "    30% {\n",
              "      border-color: transparent;\n",
              "      border-left-color: var(--fill-color);\n",
              "      border-top-color: var(--fill-color);\n",
              "      border-right-color: var(--fill-color);\n",
              "    }\n",
              "    40% {\n",
              "      border-color: transparent;\n",
              "      border-right-color: var(--fill-color);\n",
              "      border-top-color: var(--fill-color);\n",
              "    }\n",
              "    60% {\n",
              "      border-color: transparent;\n",
              "      border-right-color: var(--fill-color);\n",
              "    }\n",
              "    80% {\n",
              "      border-color: transparent;\n",
              "      border-right-color: var(--fill-color);\n",
              "      border-bottom-color: var(--fill-color);\n",
              "    }\n",
              "    90% {\n",
              "      border-color: transparent;\n",
              "      border-bottom-color: var(--fill-color);\n",
              "    }\n",
              "  }\n",
              "</style>\n",
              "\n",
              "  <script>\n",
              "    async function quickchart(key) {\n",
              "      const quickchartButtonEl =\n",
              "        document.querySelector('#' + key + ' button');\n",
              "      quickchartButtonEl.disabled = true;  // To prevent multiple clicks.\n",
              "      quickchartButtonEl.classList.add('colab-df-spinner');\n",
              "      try {\n",
              "        const charts = await google.colab.kernel.invokeFunction(\n",
              "            'suggestCharts', [key], {});\n",
              "      } catch (error) {\n",
              "        console.error('Error during call to suggestCharts:', error);\n",
              "      }\n",
              "      quickchartButtonEl.classList.remove('colab-df-spinner');\n",
              "      quickchartButtonEl.classList.add('colab-df-quickchart-complete');\n",
              "    }\n",
              "    (() => {\n",
              "      let quickchartButtonEl =\n",
              "        document.querySelector('#df-57cf084d-d1b0-4d5f-9e9a-51d446417ac5 button');\n",
              "      quickchartButtonEl.style.display =\n",
              "        google.colab.kernel.accessAllowed ? 'block' : 'none';\n",
              "    })();\n",
              "  </script>\n",
              "</div>\n",
              "\n",
              "    </div>\n",
              "  </div>\n"
            ],
            "text/plain": [
              "                                         source  \\\n",
              "56508                  Show us what you bought.   \n",
              "56550                  Stay out of my business.   \n",
              "6567                             This is sweet.   \n",
              "48731                   I'm kind of sick today.   \n",
              "142824  Where did you put the television guide?   \n",
              "\n",
              "                                                   target  \n",
              "56508   [start] Montrez-nous ce que vous avez acheté. ...  \n",
              "56550    [start] Restez en dehors de mes affaires ! [end]  \n",
              "6567                          [start] C'est gentil. [end]  \n",
              "48731    [start] Je suis un peu malade aujourd'hui. [end]  \n",
              "142824  [start] Où as-tu mis le programme de télévisio...  "
            ]
          },
          "execution_count": 4,
          "metadata": {},
          "output_type": "execute_result"
        }
      ],
      "source": [
        "df=pd.read_csv(\"./drive/MyDrive/eng_-french.csv\")\n",
        "\n",
        "df['source'] = df['English words/sentences']\n",
        "\n",
        "# let's add an initial “seed” token ([start]) and a stop token ([end]) to each target sentence.\n",
        "df['target'] = df['French words/sentences'].apply(lambda x: '[start] ' + x + ' [end]')\n",
        "df = df.drop(['English words/sentences', 'French words/sentences'], axis=1)\n",
        "\n",
        "# display a few random samples\n",
        "df.sample(5)"
      ]
    },
    {
      "cell_type": "markdown",
      "id": "3aa08da9",
      "metadata": {
        "id": "3aa08da9",
        "papermill": {
          "duration": 0.007974,
          "end_time": "2023-03-11T21:15:49.119916",
          "exception": false,
          "start_time": "2023-03-11T21:15:49.111942",
          "status": "completed"
        },
        "tags": []
      },
      "source": [
        "<div style=\"color:#000; display:fill; border-radius:8px; background-color:#000; font-size:125%;\">\n",
        "    <p style=\"padding: 8px 12px 8px 12px; color:#fff;\"><b>Shuffling the data and splitting it into train, validation, and test sets</b></p>\n",
        "</div>"
      ]
    },
    {
      "cell_type": "code",
      "execution_count": 5,
      "id": "9b31d06e",
      "metadata": {
        "colab": {
          "base_uri": "https://localhost:8080/",
          "height": 406
        },
        "execution": {
          "iopub.execute_input": "2023-03-11T21:15:49.139118Z",
          "iopub.status.busy": "2023-03-11T21:15:49.137517Z",
          "iopub.status.idle": "2023-03-11T21:15:49.324222Z",
          "shell.execute_reply": "2023-03-11T21:15:49.320248Z"
        },
        "id": "9b31d06e",
        "outputId": "ac2cedeb-aae8-4710-841c-9f737c2b4122",
        "papermill": {
          "duration": 0.199592,
          "end_time": "2023-03-11T21:15:49.327853",
          "exception": false,
          "start_time": "2023-03-11T21:15:49.128261",
          "status": "completed"
        },
        "tags": []
      },
      "outputs": [
        {
          "data": {
            "image/png": "[encoded data removed]",
            "text/plain": [
              "<Figure size 640x480 with 1 Axes>"
            ]
          },
          "metadata": {},
          "output_type": "display_data"
        }
      ],
      "source": [
        "# shuffle the data\n",
        "df = df.sample(frac=1).reset_index(drop=True)\n",
        "\n",
        "# split the data into train, validation, and test sets\n",
        "train_size = int(len(df) * 0.7)\n",
        "val_size = int(len(df) * 0.2)\n",
        "test_size = int(len(df) * 0.1)\n",
        "\n",
        "train_df = df[:train_size]\n",
        "val_df = df[train_size:train_size+val_size]\n",
        "test_df = df[train_size+val_size:]\n",
        "\n",
        "# display the data sets representations using a pie chart just to see the distribution of the data\n",
        "labels = 'Train', 'Validation', 'Test'\n",
        "sizes = [len(train_df), len(val_df), len(test_df)]\n",
        "explode = (0.1, 0, 0)\n",
        "fig1, ax1 = plt.subplots()\n",
        "ax1.pie(sizes, explode=explode, labels=labels, autopct='%1.1f%%', shadow=True, startangle=90)\n",
        "ax1.axis('equal')\n",
        "plt.show()\n"
      ]
    },
    {
      "cell_type": "markdown",
      "id": "1e095629",
      "metadata": {
        "id": "1e095629",
        "papermill": {
          "duration": 0.021137,
          "end_time": "2023-03-11T21:15:49.371778",
          "exception": false,
          "start_time": "2023-03-11T21:15:49.350641",
          "status": "completed"
        },
        "tags": []
      },
      "source": [
        "<div style=\"color:#000; display:fill; border-radius:8px; background-color:#000; font-size:125%;\">\n",
        "    <p style=\"padding: 8px 12px 8px 12px; color:#fff;\"><b>Standardizing, tokenizing and indexing the data</b></p>\n",
        "</div>"
      ]
    },
    {
      "cell_type": "code",
      "execution_count": 6,
      "id": "fa29ac95",
      "metadata": {
        "execution": {
          "iopub.execute_input": "2023-03-11T21:15:49.417259Z",
          "iopub.status.busy": "2023-03-11T21:15:49.416961Z",
          "iopub.status.idle": "2023-03-11T21:16:10.211774Z",
          "shell.execute_reply": "2023-03-11T21:16:10.210723Z"
        },
        "id": "fa29ac95",
        "papermill": {
          "duration": 20.806875,
          "end_time": "2023-03-11T21:16:10.214442",
          "exception": false,
          "start_time": "2023-03-11T21:15:49.407567",
          "status": "completed"
        },
        "tags": []
      },
      "outputs": [],
      "source": [
        "max_tokens = 25000\n",
        "sequence_length = 30\n",
        "\n",
        "# define a custom standardization function that convert to lowercase and strips all punctuations except \"[\" and \"]\" (so we can tell apart \"start\" from \"[start]\").\n",
        "strip_chars = string.punctuation\n",
        "strip_chars = strip_chars.replace(\"[\", \"\")\n",
        "strip_chars = strip_chars.replace(\"]\", \"\")\n",
        "\n",
        "def custom_standardization(input_string):\n",
        "    lowercase = tf.strings.lower(input_string)\n",
        "    return tf.strings.regex_replace(\n",
        "        lowercase, f\"[{re.escape(strip_chars)}]\", \"\")\n",
        "\n",
        "# tokenize the data using our custom standardization function\n",
        "source_vectorization = tf.keras.layers.TextVectorization(\n",
        "    max_tokens=max_tokens,\n",
        "    output_mode=\"int\",\n",
        "    output_sequence_length=sequence_length,\n",
        ")\n",
        "target_vectorization = tf.keras.layers.TextVectorization(\n",
        "    max_tokens=max_tokens,\n",
        "    output_mode=\"int\",\n",
        "    output_sequence_length=sequence_length + 1, # add +1 token to our target sentences since they'll be shifted right by 1 during training\n",
        "    standardize=custom_standardization,\n",
        ")\n",
        "\n",
        "# index all tokens in the source and target sentences\n",
        "train_source_texts = train_df['source'].values\n",
        "train_target_texts = train_df['target'].values\n",
        "source_vectorization.adapt(train_source_texts)\n",
        "target_vectorization.adapt(train_target_texts)"
      ]
    },
    {
      "cell_type": "code",
      "execution_count": 7,
      "id": "e7bfc6d5",
      "metadata": {
        "colab": {
          "base_uri": "https://localhost:8080/"
        },
        "execution": {
          "iopub.execute_input": "2023-03-11T21:16:10.234873Z",
          "iopub.status.busy": "2023-03-11T21:16:10.234550Z",
          "iopub.status.idle": "2023-03-11T21:16:13.403030Z",
          "shell.execute_reply": "2023-03-11T21:16:13.401994Z"
        },
        "id": "e7bfc6d5",
        "outputId": "8530c4dd-d612-414c-c5cc-1281aa1a19dd",
        "papermill": {
          "duration": 3.18088,
          "end_time": "2023-03-11T21:16:13.405459",
          "exception": false,
          "start_time": "2023-03-11T21:16:10.224579",
          "status": "completed"
        },
        "tags": []
      },
      "outputs": [
        {
          "name": "stdout",
          "output_type": "stream",
          "text": [
            "Source texts (one random sample): You don't look like a millionaire.\n",
            "Target texts (one random sample): [start] Vous n'avez pas l'air d'un millionnaire. [end]\n",
            "Source vectors (one random sample): tf.Tensor(\n",
            "[   3   18  123   32    6 2938    0    0    0    0    0    0    0    0\n",
            "    0    0    0    0    0    0    0    0    0    0    0    0    0    0\n",
            "    0    0], shape=(30,), dtype=int64)\n",
            "Target vectors (one random sample): tf.Tensor(\n",
            "[   2   12  520    6  146  177 4274    3    0    0    0    0    0    0\n",
            "    0    0    0    0    0    0    0    0    0    0    0    0    0    0\n",
            "    0    0    0], shape=(31,), dtype=int64)\n",
            "Source decoded texts (one random sample): you dont look like a millionaire                         \n",
            "Target decoded texts (one random sample): [start] vous navez pas lair dun millionnaire [end]                        \n"
          ]
        }
      ],
      "source": [
        "# display a random sample before and after vectorization just to test the vectorization\n",
        "random_sample = random.randint(0, len(train_df))\n",
        "print(\"Source texts (one random sample):\", train_source_texts[random_sample])\n",
        "print(\"Target texts (one random sample):\", train_target_texts[random_sample])\n",
        "print(\"Source vectors (one random sample):\", source_vectorization(train_source_texts[random_sample]))\n",
        "print(\"Target vectors (one random sample):\", target_vectorization(train_target_texts[random_sample]))\n",
        "\n",
        "# display the decoding of the vectorized text (from vector back to text) just to test the vectorization\n",
        "source_decoded_text = ''\n",
        "for i in range(len(source_vectorization(train_source_texts[random_sample]))):\n",
        "    source_decoded_text += source_vectorization.get_vocabulary()[source_vectorization(train_source_texts[random_sample])[i]] + ' '\n",
        "print(\"Source decoded texts (one random sample):\", source_decoded_text)\n",
        "\n",
        "target_decoded_text = ''\n",
        "for i in range(len(target_vectorization(train_target_texts[random_sample]))):\n",
        "    target_decoded_text += target_vectorization.get_vocabulary()[target_vectorization(train_target_texts[random_sample])[i]] + ' '\n",
        "print(\"Target decoded texts (one random sample):\", target_decoded_text)"
      ]
    },
    {
      "cell_type": "code",
      "execution_count": 8,
      "id": "ba63e63c",
      "metadata": {
        "colab": {
          "base_uri": "https://localhost:8080/"
        },
        "execution": {
          "iopub.execute_input": "2023-03-11T21:16:13.427630Z",
          "iopub.status.busy": "2023-03-11T21:16:13.425760Z",
          "iopub.status.idle": "2023-03-11T21:16:14.137677Z",
          "shell.execute_reply": "2023-03-11T21:16:14.135335Z"
        },
        "id": "ba63e63c",
        "outputId": "4c9bc33c-8c4a-4ec2-b17e-d43feca26c51",
        "papermill": {
          "duration": 0.725633,
          "end_time": "2023-03-11T21:16:14.140339",
          "exception": false,
          "start_time": "2023-03-11T21:16:13.414706",
          "status": "completed"
        },
        "tags": []
      },
      "outputs": [
        {
          "name": "stdout",
          "output_type": "stream",
          "text": [
            "Source vectors (shape): (122934, 30)\n",
            "Target vectors (shape): (122934, 31)\n"
          ]
        }
      ],
      "source": [
        "# display the shape of our vectorized data\n",
        "train_source_vectors = source_vectorization(train_source_texts)\n",
        "train_target_vectors = target_vectorization(train_target_texts)\n",
        "print(\"Source vectors (shape):\", train_source_vectors.shape)\n",
        "print(\"Target vectors (shape):\", train_target_vectors.shape)"
      ]
    },
    {
      "cell_type": "markdown",
      "id": "79cf2b3b",
      "metadata": {
        "id": "79cf2b3b",
        "papermill": {
          "duration": 0.010437,
          "end_time": "2023-03-11T21:16:14.161602",
          "exception": false,
          "start_time": "2023-03-11T21:16:14.151165",
          "status": "completed"
        },
        "tags": []
      },
      "source": [
        "# Building the Transformer"
      ]
    },
    {
      "cell_type": "markdown",
      "id": "6d3efbb9",
      "metadata": {
        "id": "6d3efbb9",
        "papermill": {
          "duration": 0.010258,
          "end_time": "2023-03-11T21:16:14.182397",
          "exception": false,
          "start_time": "2023-03-11T21:16:14.172139",
          "status": "completed"
        },
        "tags": []
      },
      "source": [
        "<div style=\"color:#000; display:fill; border-radius:8px; background-color:#000; font-size:125%;\">\n",
        "    <p style=\"padding: 8px 12px 8px 12px; color:#fff;\"><b>Positional Embedding</b></p>\n",
        "</div>"
      ]
    },
    {
      "cell_type": "code",
      "execution_count": 9,
      "id": "2489cab4",
      "metadata": {
        "execution": {
          "iopub.execute_input": "2023-03-11T21:16:14.226341Z",
          "iopub.status.busy": "2023-03-11T21:16:14.225469Z",
          "iopub.status.idle": "2023-03-11T21:16:14.235651Z",
          "shell.execute_reply": "2023-03-11T21:16:14.234365Z"
        },
        "id": "2489cab4",
        "papermill": {
          "duration": 0.024289,
          "end_time": "2023-03-11T21:16:14.237957",
          "exception": false,
          "start_time": "2023-03-11T21:16:14.213668",
          "status": "completed"
        },
        "tags": []
      },
      "outputs": [],
      "source": [
        "class PositionalEmbedding(tf.keras.layers.Layer):\n",
        "    def __init__(self, sequence_length, input_dim, output_dim, **kwargs):\n",
        "        super().__init__(**kwargs)\n",
        "        self.token_embeddings = tf.keras.layers.Embedding(input_dim=input_dim, output_dim=output_dim) # token embedding layer\n",
        "        self.position_embeddings = tf.keras.layers.Embedding(input_dim=sequence_length, output_dim=output_dim) # position embedding layer\n",
        "        self.sequence_length = sequence_length\n",
        "        self.input_dim = input_dim\n",
        "        self.output_dim = output_dim\n",
        "\n",
        "    def call(self, inputs):\n",
        "        embedded_tokens = self.token_embeddings(inputs) # embed the tokens\n",
        "        length = tf.shape(inputs)[-1]\n",
        "        positions = tf.range(start=0, limit=length, delta=1) # create the positional information\n",
        "        embedded_positions = self.position_embeddings(positions) # embed the positions\n",
        "        return embedded_tokens + embedded_positions # add the token and position embeddings to create the positional embeddings\n",
        "\n",
        "    def compute_mask(self, inputs, mask=None):\n",
        "        return tf.math.not_equal(inputs, 0)\n",
        "\n",
        "    def get_config(self):\n",
        "        config = super(PositionalEmbedding, self).get_config()\n",
        "        config.update({\n",
        "            \"input_dim\": self.input_dim,\n",
        "            \"output_dim\": self.output_dim,\n",
        "            \"sequence_length\": self.sequence_length,\n",
        "        })\n",
        "        return config"
      ]
    },
    {
      "cell_type": "code",
      "execution_count": 10,
      "id": "c92c58ca",
      "metadata": {
        "colab": {
          "base_uri": "https://localhost:8080/"
        },
        "execution": {
          "iopub.execute_input": "2023-03-11T21:16:14.260901Z",
          "iopub.status.busy": "2023-03-11T21:16:14.259978Z",
          "iopub.status.idle": "2023-03-11T21:16:14.417654Z",
          "shell.execute_reply": "2023-03-11T21:16:14.416135Z"
        },
        "id": "c92c58ca",
        "outputId": "eae86886-a52c-43a5-e0d1-7350fed52c97",
        "papermill": {
          "duration": 0.171469,
          "end_time": "2023-03-11T21:16:14.419913",
          "exception": false,
          "start_time": "2023-03-11T21:16:14.248444",
          "status": "completed"
        },
        "tags": []
      },
      "outputs": [
        {
          "name": "stdout",
          "output_type": "stream",
          "text": [
            "Source texts (one random sample): I didn't realize you were serious.\n",
            "Target texts (one random sample): [start] Je n'ai pas pris conscience que vous étiez sérieux. [end]\n",
            "Source vectors (one random sample): tf.Tensor(\n",
            "[   2   54 1034    3   36  579    0    0    0    0    0    0    0    0\n",
            "    0    0    0    0    0    0    0    0    0    0    0    0    0    0\n",
            "    0    0], shape=(30,), dtype=int64)\n",
            "Target vectors (one random sample): tf.Tensor(\n",
            "[   2    4   71    6  207 1019    7   12  393  937    3    0    0    0\n",
            "    0    0    0    0    0    0    0    0    0    0    0    0    0    0\n",
            "    0    0    0], shape=(31,), dtype=int64)\n",
            "Source embedded vectors (one random sample): tf.Tensor(\n",
            "[[ 0.02280302  0.02073123  0.00657758 ...  0.01419018 -0.04998232\n",
            "  -0.02973689]\n",
            " [ 0.03429442 -0.05411166 -0.04505788 ...  0.00654432  0.0703749\n",
            "  -0.01180452]\n",
            " [ 0.01778472 -0.00252786  0.04706644 ... -0.02079536  0.03203399\n",
            "   0.00825762]\n",
            " ...\n",
            " [-0.02542103  0.00320852 -0.01156572 ... -0.05865886 -0.09072635\n",
            "  -0.0020817 ]\n",
            " [-0.01179967 -0.03145889 -0.0076861  ... -0.02492863 -0.08358032\n",
            "  -0.01993428]\n",
            " [-0.06620597  0.00337917  0.01045371 ... -0.07294909 -0.03268794\n",
            "  -0.02963978]], shape=(30, 256), dtype=float32)\n",
            "Target embedded vectors (one random sample): tf.Tensor(\n",
            "[[-0.00868638  0.0783787  -0.0564958  ... -0.06144544 -0.07266104\n",
            "   0.0063551 ]\n",
            " [-0.05565544  0.02798359 -0.04718371 ...  0.0156578   0.01088814\n",
            "  -0.02790672]\n",
            " [-0.01908515 -0.0136399   0.01984321 ...  0.01108091  0.01443239\n",
            "   0.0256261 ]\n",
            " ...\n",
            " [ 0.07465351 -0.04542769  0.03030829 ... -0.06359893  0.02273307\n",
            "  -0.04188995]\n",
            " [ 0.01335207  0.00610657  0.05399399 ... -0.08353209 -0.00277124\n",
            "  -0.05428628]\n",
            " [ 0.0291565  -0.04793417  0.0133255  ...  0.0012385  -0.05343751\n",
            "   0.00047884]], shape=(30, 256), dtype=float32)\n"
          ]
        }
      ],
      "source": [
        "# display a random sample before and after embbeding just to test our class\n",
        "\n",
        "embed_dim = 256\n",
        "\n",
        "train_source_embedded = PositionalEmbedding(\n",
        "    sequence_length=sequence_length,\n",
        "    input_dim=max_tokens,\n",
        "    output_dim=embed_dim,\n",
        "    name=\"source_embedding\",\n",
        ") (train_source_vectors)\n",
        "\n",
        "train_target_embedded = PositionalEmbedding(\n",
        "    sequence_length=sequence_length,\n",
        "    input_dim=max_tokens,\n",
        "    output_dim=embed_dim,\n",
        "    name=\"target_embedding\",\n",
        ") (train_source_vectors)\n",
        "\n",
        "random_sample = random.randint(0, len(train_df))\n",
        "print(\"Source texts (one random sample):\", train_source_texts[random_sample])\n",
        "print(\"Target texts (one random sample):\", train_target_texts[random_sample])\n",
        "print(\"Source vectors (one random sample):\", source_vectorization(train_source_texts[random_sample]))\n",
        "print(\"Target vectors (one random sample):\", target_vectorization(train_target_texts[random_sample]))\n",
        "print(\"Source embedded vectors (one random sample):\", train_source_embedded[random_sample])\n",
        "print(\"Target embedded vectors (one random sample):\", train_target_embedded[random_sample])"
      ]
    },
    {
      "cell_type": "code",
      "execution_count": 11,
      "id": "de99ff68",
      "metadata": {
        "colab": {
          "base_uri": "https://localhost:8080/"
        },
        "execution": {
          "iopub.execute_input": "2023-03-11T21:16:14.440240Z",
          "iopub.status.busy": "2023-03-11T21:16:14.439932Z",
          "iopub.status.idle": "2023-03-11T21:16:14.445036Z",
          "shell.execute_reply": "2023-03-11T21:16:14.444082Z"
        },
        "id": "de99ff68",
        "outputId": "7bcf8e43-e52a-4569-a42f-6872a2dbac44",
        "papermill": {
          "duration": 0.017393,
          "end_time": "2023-03-11T21:16:14.447230",
          "exception": false,
          "start_time": "2023-03-11T21:16:14.429837",
          "status": "completed"
        },
        "tags": []
      },
      "outputs": [
        {
          "name": "stdout",
          "output_type": "stream",
          "text": [
            "Source embedded vectors (shape): (122934, 30, 256)\n",
            "Target embedded vectors (shape): (122934, 30, 256)\n"
          ]
        }
      ],
      "source": [
        "# display the shape of our embedded data just to test the class\n",
        "print(\"Source embedded vectors (shape):\", train_source_embedded.shape)\n",
        "print(\"Target embedded vectors (shape):\", train_target_embedded.shape)"
      ]
    },
    {
      "cell_type": "markdown",
      "id": "9f6874ae",
      "metadata": {
        "id": "9f6874ae",
        "papermill": {
          "duration": 0.008999,
          "end_time": "2023-03-11T21:16:14.465350",
          "exception": false,
          "start_time": "2023-03-11T21:16:14.456351",
          "status": "completed"
        },
        "tags": []
      },
      "source": [
        "<div style=\"color:#000; display:fill; border-radius:8px; background-color:#000; font-size:125%;\">\n",
        "    <p style=\"padding: 8px 12px 8px 12px; color:#fff;\"><b>The Attention mechanism</b></p>\n",
        "</div>"
      ]
    },
    {
      "cell_type": "code",
      "execution_count": 12,
      "id": "6603854e",
      "metadata": {
        "execution": {
          "iopub.execute_input": "2023-03-11T21:16:14.540900Z",
          "iopub.status.busy": "2023-03-11T21:16:14.540100Z",
          "iopub.status.idle": "2023-03-11T21:16:14.548405Z",
          "shell.execute_reply": "2023-03-11T21:16:14.547426Z"
        },
        "id": "6603854e",
        "papermill": {
          "duration": 0.020436,
          "end_time": "2023-03-11T21:16:14.550520",
          "exception": false,
          "start_time": "2023-03-11T21:16:14.530084",
          "status": "completed"
        },
        "tags": []
      },
      "outputs": [],
      "source": [
        "\n",
        "def shape_list(x):\n",
        "    \"\"\"Deal with dynamic shape in tensorflow cleanly.\"\"\"\n",
        "    static = x.shape.as_list()\n",
        "    dynamic = tf.shape(x)\n",
        "    return [dynamic[i] if s is None else s for i, s in enumerate(static)]\n",
        "\n",
        "def attention_mask(nd, ns, *, dtype):\n",
        "    \"\"\"1's in the lower triangle, counting from the lower right corner.\n",
        "    Same as tf.matrix_band_part(tf.ones([nd, ns]), -1, ns-nd), but doesn't produce garbage on TPUs.\n",
        "    \"\"\"\n",
        "    i = tf.range(nd)[:,None]\n",
        "    j = tf.range(ns)\n",
        "    m = i >= j - ns + nd\n",
        "    return tf.cast(m, dtype)\n",
        "\n",
        "def mask_attn_weights(w):\n",
        "    # w has shape [batch, heads, dst_sequence, src_sequence], where information flows from src to dst.\n",
        "    _, _, nd, ns = shape_list(w)\n",
        "    b = attention_mask(nd, ns, dtype=w.dtype)\n",
        "    b = tf.reshape(b, [1, 1, nd, ns])\n",
        "    w = w*b - tf.cast(1e10, w.dtype)*(1-b)\n",
        "    return w"
      ]
    },
    {
      "cell_type": "code",
      "execution_count": 13,
      "id": "b5c8960f",
      "metadata": {
        "colab": {
          "base_uri": "https://localhost:8080/"
        },
        "execution": {
          "iopub.execute_input": "2023-03-11T21:16:14.571219Z",
          "iopub.status.busy": "2023-03-11T21:16:14.570947Z",
          "iopub.status.idle": "2023-03-11T21:16:14.595015Z",
          "shell.execute_reply": "2023-03-11T21:16:14.594096Z"
        },
        "id": "b5c8960f",
        "outputId": "992696f2-fc18-4c36-8434-da2e2b5fef42",
        "papermill": {
          "duration": 0.03618,
          "end_time": "2023-03-11T21:16:14.597181",
          "exception": false,
          "start_time": "2023-03-11T21:16:14.561001",
          "status": "completed"
        },
        "tags": []
      },
      "outputs": [
        {
          "name": "stdout",
          "output_type": "stream",
          "text": [
            "Masked attention weights: tf.Tensor(\n",
            "[[[[ 7.2399497e-01 -1.0000000e+10 -1.0000000e+10 -1.0000000e+10\n",
            "    -1.0000000e+10]\n",
            "   [ 1.4399171e-02  4.9266803e-01 -1.0000000e+10 -1.0000000e+10\n",
            "    -1.0000000e+10]\n",
            "   [ 3.9625883e-02  3.4683871e-01  3.0267406e-01 -1.0000000e+10\n",
            "    -1.0000000e+10]\n",
            "   [ 4.4641829e-01  3.1502378e-01  5.8022976e-01  5.9300888e-01\n",
            "    -1.0000000e+10]\n",
            "   [ 1.5203619e-01  5.5349040e-01  5.1466417e-01  4.9525750e-01\n",
            "     3.1993401e-01]]]], shape=(1, 1, 5, 5), dtype=float32)\n"
          ]
        }
      ],
      "source": [
        "# display the causal masking of a random tensor just to test the function\n",
        "random_tensor = tf.random.uniform(shape=(1, 1, 5, 5), minval=0, maxval=1, dtype=tf.float32)\n",
        "print(\"Masked attention weights:\", mask_attn_weights(random_tensor))"
      ]
    },
    {
      "cell_type": "markdown",
      "id": "343933e5",
      "metadata": {
        "id": "343933e5",
        "papermill": {
          "duration": 0.009065,
          "end_time": "2023-03-11T21:16:14.615686",
          "exception": false,
          "start_time": "2023-03-11T21:16:14.606621",
          "status": "completed"
        },
        "tags": []
      },
      "source": [
        "<div style=\"color:#fff; display:fill; border-width:1px; border-color:#000; font-size:125%;\">\n",
        "    <p style=\"border-style:solid; border-radius:8px; background-color:#fff; padding: 8px 12px 8px 12px; color:#000;\"><b>Scaled Dot-Product Attention</b></p>\n",
        "</div>"
      ]
    },
    {
      "cell_type": "markdown",
      "id": "10b90dcb",
      "metadata": {
        "id": "10b90dcb",
        "papermill": {
          "duration": 0.009181,
          "end_time": "2023-03-11T21:16:14.634262",
          "exception": false,
          "start_time": "2023-03-11T21:16:14.625081",
          "status": "completed"
        },
        "tags": []
      },
      "source": [
        "[<img src=\"https://ar5iv.labs.arxiv.org/html/1706.03762/assets/Figures/ModalNet-19.png\" width=\"120\">](https://arxiv.org/abs/1706.03762)"
      ]
    },
    {
      "cell_type": "code",
      "execution_count": 14,
      "id": "914b9e51",
      "metadata": {
        "execution": {
          "iopub.execute_input": "2023-03-11T21:16:14.654544Z",
          "iopub.status.busy": "2023-03-11T21:16:14.653760Z",
          "iopub.status.idle": "2023-03-11T21:16:14.659883Z",
          "shell.execute_reply": "2023-03-11T21:16:14.658961Z"
        },
        "id": "914b9e51",
        "papermill": {
          "duration": 0.01822,
          "end_time": "2023-03-11T21:16:14.661905",
          "exception": false,
          "start_time": "2023-03-11T21:16:14.643685",
          "status": "completed"
        },
        "tags": []
      },
      "outputs": [],
      "source": [
        "def scaled_dot_product_attention(q, k, v, use_causal_mask=False):\n",
        "    d_k = tf.cast(tf.shape(k)[-1], tf.float32)\n",
        "    scores = tf.matmul(q, k, transpose_b=True) # Matmul of Q and K\n",
        "    scaled_scores = scores / tf.math.sqrt(d_k) # Scale\n",
        "    if use_causal_mask:\n",
        "        scaled_scores = mask_attn_weights(scaled_scores) # Mask (opt.)\n",
        "    weights = tf.nn.softmax(scaled_scores, axis=-1) # SoftMax\n",
        "    output = tf.matmul(weights, v) # Matmul of SoftMax and V\n",
        "    return output"
      ]
    },
    {
      "cell_type": "code",
      "execution_count": 15,
      "id": "cb6af42d",
      "metadata": {
        "colab": {
          "base_uri": "https://localhost:8080/"
        },
        "execution": {
          "iopub.execute_input": "2023-03-11T21:16:14.681651Z",
          "iopub.status.busy": "2023-03-11T21:16:14.681397Z",
          "iopub.status.idle": "2023-03-11T21:16:16.305932Z",
          "shell.execute_reply": "2023-03-11T21:16:16.304450Z"
        },
        "id": "cb6af42d",
        "outputId": "f5fbddb2-0dba-4290-80e6-fa2c58287d3d",
        "papermill": {
          "duration": 1.637083,
          "end_time": "2023-03-11T21:16:16.308251",
          "exception": false,
          "start_time": "2023-03-11T21:16:14.671168",
          "status": "completed"
        },
        "tags": []
      },
      "outputs": [
        {
          "name": "stdout",
          "output_type": "stream",
          "text": [
            "Scaled dot product attention (shape): (122934, 1, 30, 256)\n"
          ]
        }
      ],
      "source": [
        "# display the shape of our attention output just to test the function\n",
        "input = train_source_embedded\n",
        "input = tf.expand_dims(input, axis=1)\n",
        "print(\"Scaled dot product attention (shape):\", scaled_dot_product_attention(input, input, input, use_causal_mask=True).shape)"
      ]
    },
    {
      "cell_type": "markdown",
      "id": "d23250fa",
      "metadata": {
        "id": "d23250fa",
        "papermill": {
          "duration": 0.010589,
          "end_time": "2023-03-11T21:16:16.328876",
          "exception": false,
          "start_time": "2023-03-11T21:16:16.318287",
          "status": "completed"
        },
        "tags": []
      },
      "source": [
        "<div style=\"color:#fff; display:fill; border-width:1px; border-color:#000; font-size:125%;\">\n",
        "    <p style=\"border-style:solid; border-radius:8px; background-color:#fff; padding: 8px 12px 8px 12px; color:#000;\"><b>Multi-Head Attention</b></p>\n",
        "</div>"
      ]
    },
    {
      "cell_type": "markdown",
      "id": "c7ecde7a",
      "metadata": {
        "id": "c7ecde7a",
        "papermill": {
          "duration": 0.009248,
          "end_time": "2023-03-11T21:16:16.347895",
          "exception": false,
          "start_time": "2023-03-11T21:16:16.338647",
          "status": "completed"
        },
        "tags": []
      },
      "source": [
        "\n",
        "    \n",
        "[<img src=\"https://ar5iv.labs.arxiv.org/html/1706.03762/assets/Figures/ModalNet-20.png\" width=\"200\">](https://arxiv.org/abs/1706.03762)"
      ]
    },
    {
      "cell_type": "code",
      "execution_count": 16,
      "id": "1bb3ca80",
      "metadata": {
        "execution": {
          "iopub.execute_input": "2023-03-11T21:16:16.368012Z",
          "iopub.status.busy": "2023-03-11T21:16:16.367718Z",
          "iopub.status.idle": "2023-03-11T21:16:16.379572Z",
          "shell.execute_reply": "2023-03-11T21:16:16.378577Z"
        },
        "id": "1bb3ca80",
        "papermill": {
          "duration": 0.024366,
          "end_time": "2023-03-11T21:16:16.381708",
          "exception": false,
          "start_time": "2023-03-11T21:16:16.357342",
          "status": "completed"
        },
        "tags": []
      },
      "outputs": [],
      "source": [
        "class MultiHeadAttention(tf.keras.layers.Layer):\n",
        "    def __init__(self, embed_dim, h, **kwargs):\n",
        "        super().__init__(**kwargs)\n",
        "        self.embed_dim = embed_dim\n",
        "        self.h = h\n",
        "        if embed_dim % h != 0:\n",
        "            raise ValueError(\n",
        "                f\"dimension of the embedding space = {embed_dim} should be divisible by number of heads = {h}\"\n",
        "            )\n",
        "        self.q_linear = tf.keras.layers.Dense(embed_dim)\n",
        "        self.k_linear = tf.keras.layers.Dense(embed_dim)\n",
        "        self.v_linear = tf.keras.layers.Dense(embed_dim)\n",
        "        self.concat_linear = tf.keras.layers.Dense(embed_dim)\n",
        "\n",
        "    def split_heads(self, x, batch_size):\n",
        "        x = tf.reshape(x, shape=(batch_size, -1, self.h, self.embed_dim // self.h))\n",
        "        return tf.transpose(x, perm=[0, 2, 1, 3])\n",
        "\n",
        "    def concat_heads(self, x, batch_size):\n",
        "        x = tf.transpose(x, perm=[0, 2, 1, 3])\n",
        "        return tf.reshape(x, (batch_size, -1, self.embed_dim))\n",
        "\n",
        "    def call(self, q, k, v, use_causal_mask=False):\n",
        "        batch_size = tf.shape(k)[0]\n",
        "        q = self.q_linear(q)\n",
        "        k = self.k_linear(k)\n",
        "        v = self.v_linear(v)\n",
        "        q = self.split_heads(q, batch_size)\n",
        "        k = self.split_heads(k, batch_size)\n",
        "        v = self.split_heads(v, batch_size)\n",
        "        attention = scaled_dot_product_attention(q, k, v, use_causal_mask)\n",
        "        concat = self.concat_heads(attention, batch_size)\n",
        "        concat = self.concat_linear(concat)\n",
        "        return concat\n",
        "\n",
        "    def get_config(self):\n",
        "        config = super(MultiHeadAttention, self).get_config()\n",
        "        config.update({\n",
        "            \"embed_dim\": self.embed_dim,\n",
        "            \"h\": self.h,\n",
        "        })\n",
        "        return config"
      ]
    },
    {
      "cell_type": "markdown",
      "id": "aef59d71",
      "metadata": {
        "id": "aef59d71",
        "papermill": {
          "duration": 0.009301,
          "end_time": "2023-03-11T21:16:16.400893",
          "exception": false,
          "start_time": "2023-03-11T21:16:16.391592",
          "status": "completed"
        },
        "tags": []
      },
      "source": [
        "<div style=\"color:#000; display:fill; border-radius:8px; background-color:#000; font-size:125%;\">\n",
        "    <p style=\"padding: 8px 12px 8px 12px; color:#fff;\"><b>The Encoder</b></p>\n",
        "</div>"
      ]
    },
    {
      "cell_type": "code",
      "execution_count": 17,
      "id": "3f513888",
      "metadata": {
        "execution": {
          "iopub.execute_input": "2023-03-11T21:16:16.439695Z",
          "iopub.status.busy": "2023-03-11T21:16:16.439419Z",
          "iopub.status.idle": "2023-03-11T21:16:16.450488Z",
          "shell.execute_reply": "2023-03-11T21:16:16.449472Z"
        },
        "id": "3f513888",
        "papermill": {
          "duration": 0.023479,
          "end_time": "2023-03-11T21:16:16.452570",
          "exception": false,
          "start_time": "2023-03-11T21:16:16.429091",
          "status": "completed"
        },
        "tags": []
      },
      "outputs": [],
      "source": [
        "class TransformerEncoder(tf.keras.layers.Layer):\n",
        "    def __init__(self, embed_dim, dense_dim, num_heads, **kwargs):\n",
        "        super().__init__(**kwargs)\n",
        "        self.embed_dim = embed_dim\n",
        "        self.dense_dim = dense_dim\n",
        "        self.num_heads = num_heads\n",
        "        self.layer_norm_1 = tf.keras.layers.LayerNormalization()\n",
        "        self.layer_norm_2 = tf.keras.layers.LayerNormalization()\n",
        "        self.global_self_attention = MultiHeadAttention(embed_dim=embed_dim, h=num_heads)\n",
        "        self.feed_forward = tf.keras.Sequential(\n",
        "            [tf.keras.layers.Dense(dense_dim, activation=\"relu\"),\n",
        "             tf.keras.layers.Dense(embed_dim),]\n",
        "        )\n",
        "\n",
        "    def call(self, x):\n",
        "        # Post layer normalization + residual connections\n",
        "        x = self.layer_norm_1(x + self.global_self_attention(q=x, k=x, v=x))\n",
        "        x = self.layer_norm_2(x + self.feed_forward(x))\n",
        "        return x\n",
        "\n",
        "    def get_config(self):\n",
        "        config = super().get_config()\n",
        "        config.update({\n",
        "            \"embed_dim\": self.embed_dim,\n",
        "            \"dense_dim\": self.dense_dim,\n",
        "            \"num_heads\": self.num_heads,\n",
        "        })\n",
        "        return config"
      ]
    },
    {
      "cell_type": "markdown",
      "id": "4cac4a9a",
      "metadata": {
        "id": "4cac4a9a",
        "papermill": {
          "duration": 0.009332,
          "end_time": "2023-03-11T21:16:16.471316",
          "exception": false,
          "start_time": "2023-03-11T21:16:16.461984",
          "status": "completed"
        },
        "tags": []
      },
      "source": [
        "<div style=\"color:#000; display:fill; border-radius:8px; background-color:#000; font-size:125%;\">\n",
        "    <p style=\"padding: 8px 12px 8px 12px; color:#fff;\"><b>The Decoder</b></p>\n",
        "</div>"
      ]
    },
    {
      "cell_type": "code",
      "execution_count": 18,
      "id": "efd857c3",
      "metadata": {
        "execution": {
          "iopub.execute_input": "2023-03-11T21:16:16.511448Z",
          "iopub.status.busy": "2023-03-11T21:16:16.510675Z",
          "iopub.status.idle": "2023-03-11T21:16:16.521790Z",
          "shell.execute_reply": "2023-03-11T21:16:16.520904Z"
        },
        "id": "efd857c3",
        "papermill": {
          "duration": 0.023884,
          "end_time": "2023-03-11T21:16:16.523763",
          "exception": false,
          "start_time": "2023-03-11T21:16:16.499879",
          "status": "completed"
        },
        "tags": []
      },
      "outputs": [],
      "source": [
        "class TransformerDecoder(tf.keras.layers.Layer):\n",
        "    def __init__(self, embed_dim, dense_dim, num_heads, **kwargs):\n",
        "        super().__init__(**kwargs)\n",
        "        self.embed_dim = embed_dim\n",
        "        self.dense_dim = dense_dim\n",
        "        self.num_heads = num_heads\n",
        "        self.causal_self_attention = MultiHeadAttention(embed_dim=embed_dim, h=num_heads)\n",
        "        self.cross_attention = MultiHeadAttention(embed_dim=embed_dim, h=num_heads)\n",
        "        self.feed_forward = tf.keras.Sequential(\n",
        "            [tf.keras.layers.Dense(dense_dim, activation=\"relu\"),\n",
        "             tf.keras.layers.Dense(embed_dim),]\n",
        "        )\n",
        "        self.layer_norm_1 = tf.keras.layers.LayerNormalization()\n",
        "        self.layer_norm_2 = tf.keras.layers.LayerNormalization()\n",
        "        self.layer_norm_3 = tf.keras.layers.LayerNormalization()\n",
        "\n",
        "    def get_config(self):\n",
        "        config = super().get_config()\n",
        "        config.update({\n",
        "            \"embed_dim\": self.embed_dim,\n",
        "            \"dense_dim\": self.dense_dim,\n",
        "            \"num_heads\": self.num_heads,\n",
        "        })\n",
        "        return config\n",
        "\n",
        "    def call(self, x, context):\n",
        "        # Post layer normalization + residual connections\n",
        "        x = self.layer_norm_1(x + self.causal_self_attention(q=x, k=x, v=x, use_causal_mask=True))\n",
        "        x = self.layer_norm_2(x + self.cross_attention(q=x, k=context, v=context))\n",
        "        x = self.layer_norm_3(x + self.feed_forward(x))\n",
        "        return x"
      ]
    },
    {
      "cell_type": "markdown",
      "id": "53315fb6",
      "metadata": {
        "id": "53315fb6",
        "papermill": {
          "duration": 0.009308,
          "end_time": "2023-03-11T21:16:16.542819",
          "exception": false,
          "start_time": "2023-03-11T21:16:16.533511",
          "status": "completed"
        },
        "tags": []
      },
      "source": [
        "<div style=\"color:#000; display:fill; border-radius:8px; background-color:#000; font-size:125%;\">\n",
        "    <p style=\"padding: 8px 12px 8px 12px; color:#fff;\"><b>Putting it all together</b></p>\n",
        "</div>"
      ]
    },
    {
      "cell_type": "code",
      "execution_count": 32,
      "id": "f3315e28",
      "metadata": {
        "execution": {
          "iopub.execute_input": "2023-03-11T21:16:16.582703Z",
          "iopub.status.busy": "2023-03-11T21:16:16.581946Z",
          "iopub.status.idle": "2023-03-11T21:16:16.837345Z",
          "shell.execute_reply": "2023-03-11T21:16:16.836348Z"
        },
        "id": "f3315e28",
        "papermill": {
          "duration": 0.268342,
          "end_time": "2023-03-11T21:16:16.839869",
          "exception": false,
          "start_time": "2023-03-11T21:16:16.571527",
          "status": "completed"
        },
        "tags": []
      },
      "outputs": [],
      "source": [
        "batch_size = 256\n",
        "\n",
        "def format_dataset(source, target):\n",
        "    source_vectors = source_vectorization(source)\n",
        "    target_vectors = target_vectorization(target)\n",
        "    return ({\n",
        "        \"source\": source_vectors, # encoder_inputs\n",
        "        \"target\": target_vectors[:, :-1], # decoder_inputs (truncate by 1 to keep it at the same length as decoder_outputs, which is shifted right by 1).\n",
        "    }, target_vectors[:, 1:]) # decoder_outputs\n",
        "\n",
        "def make_dataset(df):\n",
        "    dataset = tf.data.Dataset.from_tensor_slices((df[\"source\"].values, df[\"target\"].values))\n",
        "    dataset = dataset.batch(batch_size)\n",
        "    dataset = dataset.map(format_dataset, num_parallel_calls=4)\n",
        "    return dataset.shuffle(2048).prefetch(16).cache()\n",
        "\n",
        "train_ds = make_dataset(train_df)\n",
        "val_ds = make_dataset(val_df)"
      ]
    },
    {
      "cell_type": "code",
      "execution_count": 33,
      "id": "77efcbff",
      "metadata": {
        "colab": {
          "base_uri": "https://localhost:8080/"
        },
        "execution": {
          "iopub.execute_input": "2023-03-11T21:16:16.861407Z",
          "iopub.status.busy": "2023-03-11T21:16:16.860859Z",
          "iopub.status.idle": "2023-03-11T21:16:17.901338Z",
          "shell.execute_reply": "2023-03-11T21:16:17.900132Z"
        },
        "id": "77efcbff",
        "outputId": "911aa393-d22f-4600-a258-b97142d0255c",
        "papermill": {
          "duration": 1.053699,
          "end_time": "2023-03-11T21:16:17.903679",
          "exception": false,
          "start_time": "2023-03-11T21:16:16.849980",
          "status": "completed"
        },
        "tags": []
      },
      "outputs": [
        {
          "name": "stdout",
          "output_type": "stream",
          "text": [
            "Encoder Inputs: (256, 30)\n",
            "Decoder Inputs: (256, 30)\n",
            "Decoder Outputs: (256, 30)\n"
          ]
        }
      ],
      "source": [
        "# display the shape of the first batch of data in the dataset just to see what it looks like\n",
        "for batch in train_ds.take(1):\n",
        "    print(\"Encoder Inputs:\", batch[0][\"source\"].shape)\n",
        "    print(\"Decoder Inputs:\", batch[0][\"target\"].shape)\n",
        "    print(\"Decoder Outputs:\", batch[1].shape)"
      ]
    },
    {
      "cell_type": "markdown",
      "id": "9be54cec",
      "metadata": {
        "id": "9be54cec",
        "papermill": {
          "duration": 0.009675,
          "end_time": "2023-03-11T21:16:17.923413",
          "exception": false,
          "start_time": "2023-03-11T21:16:17.913738",
          "status": "completed"
        },
        "tags": []
      },
      "source": [
        "<img src=\"https://raw.githubusercontent.com/nlp-with-transformers/notebooks/main/images/chapter03_transformer-encoder-decoder.png\" width=\"600\">\n"
      ]
    },
    {
      "cell_type": "code",
      "execution_count": null,
      "id": "5bbd4f81",
      "metadata": {},
      "outputs": [],
      "source": [
        "embed_dim = 512 # dimension of the embedding space\n",
        "dense_dim = 2048 # dimension of the feed forward network (a rule of thumb is to use 4 times the size of the embeddings)\n",
        "num_heads = 8\n",
        "\n",
        "# the transformer body\n",
        "encoder_inputs = tf.keras.Input(shape=(None,), dtype=\"int64\", name=\"source\")\n",
        "x = PositionalEmbedding(sequence_length, max_tokens, embed_dim)(encoder_inputs)\n",
        "\n",
        "# First encoder layer\n",
        "x = TransformerEncoder(embed_dim, dense_dim, num_heads)(x)\n",
        "encoder_outputs_1 = x\n",
        "\n",
        "# Second encoder layer\n",
        "x = TransformerEncoder(embed_dim, dense_dim, num_heads)(x)\n",
        "encoder_outputs_2 = x\n",
        "\n",
        "decoder_inputs = tf.keras.Input(shape=(None,), dtype=\"int64\", name=\"target\")\n",
        "x = PositionalEmbedding(sequence_length, max_tokens, embed_dim)(decoder_inputs)\n",
        "\n",
        "# First decoder layer\n",
        "x = TransformerDecoder(embed_dim, dense_dim, num_heads)(x, encoder_outputs_1)\n",
        "\n",
        "# Second decoder layer\n",
        "x = TransformerDecoder(embed_dim, dense_dim, num_heads)(x, encoder_outputs_2)\n",
        "\n",
        "# the transformer head\n",
        "x = tf.keras.layers.Dropout(0.5)(x)\n",
        "decoder_outputs = tf.keras.layers.Dense(max_tokens, activation=\"softmax\")(x)\n",
        "\n",
        "transformer = tf.keras.Model([encoder_inputs, decoder_inputs], decoder_outputs)\n"
      ]
    },
    {
      "cell_type": "code",
      "execution_count": 34,
      "id": "35f05fbd",
      "metadata": {
        "execution": {
          "iopub.execute_input": "2023-03-11T21:16:17.945178Z",
          "iopub.status.busy": "2023-03-11T21:16:17.944831Z",
          "iopub.status.idle": "2023-03-11T21:16:19.583132Z",
          "shell.execute_reply": "2023-03-11T21:16:19.582129Z"
        },
        "id": "35f05fbd",
        "papermill": {
          "duration": 1.653065,
          "end_time": "2023-03-11T21:16:19.586407",
          "exception": false,
          "start_time": "2023-03-11T21:16:17.933342",
          "status": "completed"
        },
        "tags": []
      },
      "outputs": [],
      "source": [
        "# embed_dim = 512 # dimension of the embedding space\n",
        "# dense_dim = 2048 # dimension of the feed forward network (a rule of thumb is to use 4 times the size of the embeddings)\n",
        "# num_heads = 8\n",
        "\n",
        "# # the transformer body\n",
        "# encoder_inputs = tf.keras.Input(shape=(None,), dtype=\"int64\", name=\"source\")\n",
        "# x = PositionalEmbedding(sequence_length, max_tokens, embed_dim)(encoder_inputs)\n",
        "# encoder_outputs = TransformerEncoder(embed_dim, dense_dim, num_heads)(x)\n",
        "# decoder_inputs = tf.keras.Input(shape=(None,), dtype=\"int64\", name=\"target\")\n",
        "# x = PositionalEmbedding(sequence_length, max_tokens, embed_dim)(decoder_inputs)\n",
        "# x = TransformerDecoder(embed_dim, dense_dim, num_heads)(x, encoder_outputs)\n",
        "\n",
        "# # the transformer head\n",
        "# x = tf.keras.layers.Dropout(0.5)(x)\n",
        "# decoder_outputs = tf.keras.layers.Dense(max_tokens, activation=\"softmax\")(x)\n",
        "\n",
        "# transformer = tf.keras.Model([encoder_inputs, decoder_inputs], decoder_outputs)"
      ]
    },
    {
      "cell_type": "markdown",
      "id": "4fa4b744",
      "metadata": {
        "id": "4fa4b744",
        "papermill": {
          "duration": 0.014633,
          "end_time": "2023-03-11T21:16:19.617500",
          "exception": false,
          "start_time": "2023-03-11T21:16:19.602867",
          "status": "completed"
        },
        "tags": []
      },
      "source": [
        "# Training the Transformer"
      ]
    },
    {
      "cell_type": "code",
      "execution_count": 35,
      "id": "e059938e",
      "metadata": {
        "colab": {
          "base_uri": "https://localhost:8080/"
        },
        "execution": {
          "iopub.execute_input": "2023-03-11T21:16:19.648313Z",
          "iopub.status.busy": "2023-03-11T21:16:19.647850Z",
          "iopub.status.idle": "2023-03-11T22:49:33.526355Z",
          "shell.execute_reply": "2023-03-11T22:49:33.525131Z"
        },
        "id": "e059938e",
        "outputId": "360df925-fe5f-4367-dd3a-af8cd781a3e1",
        "papermill": {
          "duration": 5596.689391,
          "end_time": "2023-03-11T22:49:36.321627",
          "exception": false,
          "start_time": "2023-03-11T21:16:19.632236",
          "status": "completed"
        },
        "tags": []
      },
      "outputs": [
        {
          "name": "stdout",
          "output_type": "stream",
          "text": [
            "Epoch 1/10\n",
            "481/481 [==============================] - 242s 489ms/step - loss: 1.4048 - accuracy: 0.8015 - val_loss: 1.0240 - val_accuracy: 0.8346 - lr: 0.0010\n",
            "Epoch 2/10\n",
            "481/481 [==============================] - 231s 481ms/step - loss: 0.8282 - accuracy: 0.8673 - val_loss: 0.6479 - val_accuracy: 0.8895 - lr: 0.0010\n",
            "Epoch 3/10\n",
            "481/481 [==============================] - 216s 450ms/step - loss: 0.5921 - accuracy: 0.8996 - val_loss: 0.5221 - val_accuracy: 0.9074 - lr: 0.0010\n",
            "Epoch 4/10\n",
            "481/481 [==============================] - 217s 451ms/step - loss: 0.4822 - accuracy: 0.9131 - val_loss: 0.4607 - val_accuracy: 0.9142 - lr: 0.0010\n",
            "Epoch 5/10\n",
            "481/481 [==============================] - 235s 489ms/step - loss: 0.4104 - accuracy: 0.9218 - val_loss: 0.4273 - val_accuracy: 0.9190 - lr: 0.0010\n",
            "Epoch 6/10\n",
            "481/481 [==============================] - 217s 451ms/step - loss: 0.3563 - accuracy: 0.9287 - val_loss: 0.4159 - val_accuracy: 0.9194 - lr: 0.0010\n",
            "Epoch 7/10\n",
            "481/481 [==============================] - 230s 478ms/step - loss: 0.3130 - accuracy: 0.9345 - val_loss: 0.3956 - val_accuracy: 0.9230 - lr: 0.0010\n",
            "Epoch 8/10\n",
            "481/481 [==============================] - 217s 450ms/step - loss: 0.2780 - accuracy: 0.9394 - val_loss: 0.3871 - val_accuracy: 0.9243 - lr: 0.0010\n",
            "Epoch 9/10\n",
            "481/481 [==============================] - 217s 451ms/step - loss: 0.2479 - accuracy: 0.9437 - val_loss: 0.3850 - val_accuracy: 0.9249 - lr: 0.0010\n",
            "Epoch 10/10\n",
            "481/481 [==============================] - 216s 448ms/step - loss: 0.2227 - accuracy: 0.9476 - val_loss: 0.3902 - val_accuracy: 0.9251 - lr: 0.0010\n"
          ]
        },
        {
          "data": {
            "text/plain": [
              "<tensorflow.python.checkpoint.checkpoint.CheckpointLoadStatus at 0x7f54409534c0>"
            ]
          },
          "execution_count": 35,
          "metadata": {},
          "output_type": "execute_result"
        }
      ],
      "source": [
        "transformer.compile(\n",
        "    optimizer=\"rmsprop\",\n",
        "    loss=\"sparse_categorical_crossentropy\",\n",
        "    metrics=[\"accuracy\"])\n",
        "\n",
        "EPOCHS = 10\n",
        "checkpoint_filepath = '/tmp/checkpoint/'\n",
        "callbacks_list = [\n",
        "    tf.keras.callbacks.ReduceLROnPlateau(\n",
        "        monitor='val_loss',\n",
        "        factor=0.1,\n",
        "        patience=3,\n",
        "    ),\n",
        "    tf.keras.callbacks.EarlyStopping(\n",
        "        monitor='val_loss',\n",
        "        patience=6,\n",
        "    ),\n",
        "    tf.keras.callbacks.ModelCheckpoint(\n",
        "        filepath=checkpoint_filepath,\n",
        "        save_weights_only=True,\n",
        "        monitor='val_loss',\n",
        "        mode='min',\n",
        "        save_best_only=True\n",
        "    ),\n",
        "]\n",
        "\n",
        "transformer.fit(train_ds,\n",
        "                epochs=EPOCHS,\n",
        "                callbacks=callbacks_list,\n",
        "                validation_data=val_ds)\n",
        "\n",
        "transformer.load_weights(checkpoint_filepath)"
      ]
    },
    {
      "cell_type": "code",
      "execution_count": 37,
      "id": "M9OX3CDMiLf_",
      "metadata": {
        "colab": {
          "base_uri": "https://localhost:8080/"
        },
        "id": "M9OX3CDMiLf_",
        "outputId": "536808ee-a9bc-4eeb-b2b2-e0fb70536043"
      },
      "outputs": [
        {
          "name": "stderr",
          "output_type": "stream",
          "text": [
            "WARNING:absl:<__main__.MultiHeadAttention object at 0x7f541e28e2f0> has the same name 'MultiHeadAttention' as a built-in Keras object. Consider renaming <class '__main__.MultiHeadAttention'> to avoid naming conflicts when loading with `tf.keras.models.load_model`. If renaming is not possible, pass the object in the `custom_objects` parameter of the load function.\n",
            "WARNING:absl:<__main__.MultiHeadAttention object at 0x7f5427725690> has the same name 'MultiHeadAttention' as a built-in Keras object. Consider renaming <class '__main__.MultiHeadAttention'> to avoid naming conflicts when loading with `tf.keras.models.load_model`. If renaming is not possible, pass the object in the `custom_objects` parameter of the load function.\n",
            "WARNING:absl:<__main__.MultiHeadAttention object at 0x7f5427725de0> has the same name 'MultiHeadAttention' as a built-in Keras object. Consider renaming <class '__main__.MultiHeadAttention'> to avoid naming conflicts when loading with `tf.keras.models.load_model`. If renaming is not possible, pass the object in the `custom_objects` parameter of the load function.\n"
          ]
        }
      ],
      "source": [
        "# # Save the entire model\n",
        "# transformer.save('/drive/MyDrive/saved_model')"
      ]
    },
    {
      "cell_type": "code",
      "execution_count": 38,
      "id": "uP4ywyF9iLRZ",
      "metadata": {
        "id": "uP4ywyF9iLRZ"
      },
      "outputs": [],
      "source": [
        "# loaded_transformer = tf.keras.models.load_model('/drive/MyDrive//saved_model')\n"
      ]
    },
    {
      "cell_type": "code",
      "execution_count": 41,
      "id": "Mbxi3vfuifYD",
      "metadata": {
        "colab": {
          "base_uri": "https://localhost:8080/",
          "height": 35
        },
        "id": "Mbxi3vfuifYD",
        "outputId": "687e6342-6095-4c5c-d60d-95896a8ba5a7"
      },
      "outputs": [
        {
          "data": {
            "application/vnd.google.colaboratory.intrinsic+json": {
              "type": "string"
            },
            "text/plain": [
              "'/drive/MyDrive/saved_model.zip'"
            ]
          },
          "execution_count": 41,
          "metadata": {},
          "output_type": "execute_result"
        }
      ],
      "source": [
        "# import shutil\n",
        "# zip_filename = '/drive/MyDrive//saved_model'\n",
        "# shutil.make_archive(zip_filename, 'zip', \"/drive/MyDrive/\")"
      ]
    },
    {
      "cell_type": "code",
      "execution_count": null,
      "id": "IBIBBvElifg9",
      "metadata": {
        "id": "IBIBBvElifg9"
      },
      "outputs": [],
      "source": []
    },
    {
      "cell_type": "markdown",
      "id": "ea6ae7fd",
      "metadata": {
        "id": "ea6ae7fd",
        "papermill": {
          "duration": 2.824481,
          "end_time": "2023-03-11T22:49:42.234058",
          "exception": false,
          "start_time": "2023-03-11T22:49:39.409577",
          "status": "completed"
        },
        "tags": []
      },
      "source": [
        "# Testing the Transformer"
      ]
    },
    {
      "cell_type": "code",
      "execution_count": 76,
      "id": "zcHbnhtemfGu",
      "metadata": {
        "colab": {
          "base_uri": "https://localhost:8080/"
        },
        "id": "zcHbnhtemfGu",
        "outputId": "3c99d978-e9fa-41c8-9ef2-327bea4fb798"
      },
      "outputs": [
        {
          "name": "stdout",
          "output_type": "stream",
          "text": [
            " vous faites bien sûr  **  tu plaisantes bien sûr \n",
            "Score: 0.5\n",
            " cest un bon film  **  cest un bon film \n",
            "Score: 1.0\n",
            " ne mastu pas entendu appeler  **  ne mavezvous pas entendu appeler  \n",
            "Score: 0.8\n",
            " nous venons de cela  **  nous venons de faire cela \n",
            "Score: 0.7788007830714049\n",
            " vous et moi sommes séparés  **  toi et moi sommes des âmes sœurs \n",
            "Score: 0.40219202762138356\n",
            " je suis un héros  **  je suis un héros \n",
            "Score: 1.0\n",
            " jai autant de livres quil le fait  **  je dispose dautant de livres que lui \n",
            "Score: 0.2857142857142857\n",
            " estu sûr que vous ne voulez pas venir ce soir  **  estu sûr de ne pas vouloir venir ce soir  \n",
            "Score: 0.7\n",
            " je ne suis pas beau  **  je ne suis pas belle \n",
            "Score: 0.8\n",
            " la chine est riche en ressources naturelles  **  la chine est riche en ressources naturelles \n",
            "Score: 1.0\n",
            " jai vu quelquun embrasser tom  **  jai vu quelquun embrasser tom \n",
            "Score: 1.0\n",
            " jai été exilé  **  jai des pellicules \n",
            "Score: 0.3333333333333333\n",
            " vous devez les avoir oublié dans le bureau  **  tu as dû les oublier au bureau \n",
            "Score: 0.25\n",
            " tom et mary ont coupé le zoo au zoo  **  tom et mary ont séché les cours et sont allés au zoo \n",
            "Score: 0.47768754038252614\n",
            " allonsy en taxi  **  allonsy en taxi \n",
            "Score: 1.0\n",
            " il ne faut jamais se parler de mots  **  on na jamais prononcé de paroles plus vraies \n",
            "Score: 0.25\n",
            " vous avez été sélectionné  **  tu as été sélectionnée \n",
            "Score: 0.25\n",
            " je vais sortir me promener  **  je vais aller promener mon chien \n",
            "Score: 0.49123845184678916\n",
            " astu tué tom  **  astu tué tom  \n",
            "Score: 1.0\n",
            " je veux que vous preniez du repos  **  je veux que vous preniez du repos \n",
            "Score: 1.0\n",
            "\n",
            "BLEU score: 13.32/20\n"
          ]
        }
      ],
      "source": [
        "\n",
        "# Assuming you have a list of English and French texts\n",
        "test_eng_texts = [pair for pair in test_df.source.tolist()]\n",
        "test_fra_texts = [pair for pair in test_df.target.tolist()]\n",
        "\n",
        "# Function to preprocess a sentence\n",
        "def preprocess_sentence(sentence):\n",
        "    sentence = sentence.lower()  # Convert to lowercase\n",
        "    sentence = sentence.replace('[start]', '').replace('[end]', '')  # Remove [start] and [end]\n",
        "    sentence = sentence.translate(str.maketrans('', '', string.punctuation))  # Remove punctuation\n",
        "    return sentence\n",
        "\n",
        "score = 0\n",
        "bleu = 0\n",
        "\n",
        "for i in range(100, 120):\n",
        "    candidate = decode_sequence(test_eng_texts[i])\n",
        "    reference = test_fra_texts[i]\n",
        "\n",
        "    # Preprocess candidate and reference\n",
        "    candidate = preprocess_sentence(candidate)\n",
        "    reference = preprocess_sentence(reference)\n",
        "\n",
        "    print(candidate, \"**\", reference)\n",
        "\n",
        "    # Calculate BLEU score\n",
        "    score = sentence_bleu([reference.split()], candidate.split(), weights=(1, 0, 0, 0))\n",
        "    bleu += score\n",
        "    print(f\"Score: {score}\")\n",
        "\n",
        "print(f\"\\nBLEU score: {round(bleu, 2)}/20\")\n"
      ]
    },
    {
      "cell_type": "code",
      "execution_count": null,
      "id": "w-Niixo-nUSx",
      "metadata": {
        "id": "w-Niixo-nUSx"
      },
      "outputs": [],
      "source": []
    },
    {
      "cell_type": "code",
      "execution_count": null,
      "id": "OhzCkwDSnUfy",
      "metadata": {
        "id": "OhzCkwDSnUfy"
      },
      "outputs": [],
      "source": []
    },
    {
      "cell_type": "code",
      "execution_count": null,
      "id": "tqvVx82TnUpE",
      "metadata": {
        "id": "tqvVx82TnUpE"
      },
      "outputs": [],
      "source": []
    },
    {
      "cell_type": "code",
      "execution_count": 55,
      "id": "0e7a4264",
      "metadata": {
        "colab": {
          "base_uri": "https://localhost:8080/"
        },
        "execution": {
          "iopub.execute_input": "2023-03-11T22:49:53.787024Z",
          "iopub.status.busy": "2023-03-11T22:49:53.786670Z",
          "iopub.status.idle": "2023-03-11T22:50:13.522173Z",
          "shell.execute_reply": "2023-03-11T22:50:13.520854Z"
        },
        "id": "0e7a4264",
        "outputId": "1b19a3a0-951d-4e4c-c5f1-a500300c8cc1",
        "papermill": {
          "duration": 22.5185,
          "end_time": "2023-03-11T22:50:13.524481",
          "exception": false,
          "start_time": "2023-03-11T22:49:51.005981",
          "status": "completed"
        },
        "tags": []
      },
      "outputs": [
        {
          "name": "stdout",
          "output_type": "stream",
          "text": [
            "I was able to answer the question.\n",
            "[start] jai pu répondre à la question [end]\n",
            "\n",
            "I didn't hear anything.\n",
            "[start] je nai rien entendu [end]\n",
            "\n",
            "Let's stop and take a rest.\n",
            "[start] faisons un peu et prends un repos [end]\n",
            "\n",
            "I hate shopping.\n",
            "[start] je déteste faire des emplettes [end]\n",
            "\n",
            "I won't be here tomorrow.\n",
            "[start] je ne serai pas là demain [end]\n",
            "\n",
            "It's really embarrassing.\n",
            "[start] cest vraiment embarrassant [end]\n",
            "\n",
            "I'm drafting a plan.\n",
            "[start] je suis en train de prendre un plan [end]\n",
            "\n",
            "Why would you want to do a thing like that?\n",
            "[start] pourquoi voudraistu faire une telle chose [end]\n",
            "\n",
            "You have a good job.\n",
            "[start] vous avez un bon travail [end]\n",
            "\n",
            "I don't believe this is happening to me.\n",
            "[start] je ne pense pas que ce soit en train de me passer [end]\n",
            "\n",
            "She whispered to me that she was hungry.\n",
            "[start] elle me chuchota de faire cela avait faim [end]\n",
            "\n",
            "He started learning English at the age of eleven.\n",
            "[start] il a commencé à apprendre langlais à onze ans [end]\n",
            "\n",
            "This is a coincidence.\n",
            "[start] cest une coïncidence [end]\n",
            "\n",
            "I read it to my family.\n",
            "[start] je lai lu à ma famille [end]\n",
            "\n",
            "How is your wife?\n",
            "[start] comment va votre femme [end]\n",
            "\n",
            "The phone was off the hook.\n",
            "[start] le téléphone était daffaire était daffaire [end]\n",
            "\n",
            "You can't attend? Why not?\n",
            "[start] vous ne pouvez pas assister pourquoi ne pas pourquoi [end]\n",
            "\n",
            "I ate a turkey sandwich.\n",
            "[start] jai mangé un sandwich [end]\n",
            "\n",
            "I have to take my medicine every six hours.\n",
            "[start] je dois prendre mes médicaments tous les six heures [end]\n",
            "\n",
            "Where did you get all those keys?\n",
            "[start] où astu été toutes ces clés [end]\n",
            "\n",
            "Doing that would be a mistake.\n",
            "[start] faire cela serait une erreur [end]\n",
            "\n",
            "Do you always greet people that way?\n",
            "[start] vous [UNK] toujours des gens qui se [UNK] ainsi [end]\n",
            "\n",
            "Tom is your husband's middle name, isn't it?\n",
            "[start] tom est le nom de ton mari nestce pas [end]\n",
            "\n",
            "We went on a picnic together.\n",
            "[start] nous sommes allées ensemble en piquenique ensemble [end]\n",
            "\n",
            "Do you really want to stay young forever?\n",
            "[start] veuxtu vraiment jeune pour rester en toujours [end]\n",
            "\n",
            "I can't believe that you aren't at least willing to consider the possibility of other alternatives.\n",
            "[start] je narrive pas à croire que vous ne soyez pas au moins disposée à envisager dautres possibilités [end]\n",
            "\n",
            "Tom is good at playing golf.\n",
            "[start] tom est bon au golf [end]\n",
            "\n",
            "This job pays pretty well.\n",
            "[start] ce travail est assez bien [end]\n",
            "\n",
            "I've had a slight headache since last night.\n",
            "[start] jai eu un léger mal de tête la nuit dernière [end]\n",
            "\n",
            "He learned the poem by heart.\n",
            "[start] il a appris le poème par cœur [end]\n",
            "\n",
            "Why do you want to be alone all the time?\n",
            "[start] pourquoi veuxtu être tout seul le temps seule [end]\n",
            "\n",
            "It was a great shock to me.\n",
            "[start] ce fut un grand choc pour moi [end]\n",
            "\n",
            "Tom committed suicide by hanging himself.\n",
            "[start] tom sest suicidé par hasard [end]\n",
            "\n",
            "Do you have an extra key?\n",
            "[start] astu une clé supplémentaire [end]\n",
            "\n",
            "It will be a great pleasure for me to translate the story and to read it to you.\n",
            "[start] il sera un grand plaisir de traduire sur toi et de lhistoire et de le lire [end]\n",
            "\n",
            "My father doesn't drink too much sake.\n",
            "[start] mon père ne boit pas trop de trop de dieu [end]\n",
            "\n",
            "In politics there are no friends, only partners.\n",
            "[start] dans la politique il ny a que aucun ami en charge [end]\n",
            "\n",
            "Do you know where your children are?\n",
            "[start] savezvous où vos enfants sont vos enfants [end]\n",
            "\n",
            "I shouldn't have stayed up all night.\n",
            "[start] je naurais pas dû rester debout toute la nuit [end]\n",
            "\n",
            "I can't stand that noise anymore.\n",
            "[start] je ne peux pas supporter ce bruit [end]\n",
            "\n",
            "Look in front of you.\n",
            "[start] regardez devant vous [end]\n",
            "\n",
            "Look, Tom. There are salted pickles!\n",
            "[start] regardez tom est le nombre de ce que les [UNK] [end]\n",
            "\n",
            "It'll be too late then.\n",
            "[start] il sera trop tard alors [end]\n",
            "\n",
            "Why are you so mean?\n",
            "[start] pourquoi êtesvous si méchante [end]\n",
            "\n",
            "He boasts that he can speak six languages.\n",
            "[start] il a [UNK] quil peut parler six langues [end]\n",
            "\n",
            "She had twins.\n",
            "[start] elle a eu des jumeaux [end]\n",
            "\n",
            "I get depressed at times.\n",
            "[start] je me suis déprimé à fois [end]\n",
            "\n",
            "I just can't wait to go to school.\n",
            "[start] je suis impatiente de me rendre à lécole [end]\n",
            "\n",
            "The letter was written by Tom.\n",
            "[start] la lettre était tom en train de tout à tom [end]\n",
            "\n",
            "Whose phone number is this?\n",
            "[start] À qui est le numéro de ce numéro [end]\n",
            "\n"
          ]
        }
      ],
      "source": [
        "target_vocab = target_vectorization.get_vocabulary()\n",
        "target_index_lookup = dict(zip(range(len(target_vocab)), target_vocab))\n",
        "max_decoded_sentence_length = 30\n",
        "\n",
        "def decode_sequence(input_sentence):\n",
        "    tokenized_input_sentence = source_vectorization([input_sentence])\n",
        "    decoded_sentence = \"[start]\"\n",
        "    for i in range(max_decoded_sentence_length):\n",
        "        tokenized_target_sentence = target_vectorization(\n",
        "            [decoded_sentence])[:, :-1]\n",
        "        predictions = transformer(\n",
        "            [tokenized_input_sentence, tokenized_target_sentence])\n",
        "        sampled_token_index = np.argmax(predictions[0, i, :])\n",
        "        sampled_token = target_index_lookup[sampled_token_index]\n",
        "        decoded_sentence += \" \" + sampled_token\n",
        "        if sampled_token == \"[end]\":\n",
        "            break\n",
        "    return decoded_sentence\n",
        "\n",
        "# let's translate 50 random sentences\n",
        "for i in range(50):\n",
        "    random_index = np.random.randint(0, len(test_df))\n",
        "    input_sentence = test_df[\"source\"].iloc[random_index]\n",
        "    print(input_sentence)\n",
        "    print(decode_sequence(input_sentence))\n",
        "    print()"
      ]
    },
    {
      "cell_type": "code",
      "execution_count": 42,
      "id": "zrl818RJmNBk",
      "metadata": {
        "id": "zrl818RJmNBk"
      },
      "outputs": [],
      "source": []
    }
  ],
  "metadata": {
    "accelerator": "GPU",
    "colab": {
      "gpuType": "T4",
      "provenance": []
    },
    "kernelspec": {
      "display_name": "Python 3",
      "name": "python3"
    },
    "language_info": {
      "codemirror_mode": {
        "name": "ipython",
        "version": 3
      },
      "file_extension": ".py",
      "mimetype": "text/x-python",
      "name": "python",
      "nbconvert_exporter": "python",
      "pygments_lexer": "ipython3",
      "version": "3.7.12"
    },
    "papermill": {
      "default_parameters": {},
      "duration": 5693.346436,
      "end_time": "2023-03-11T22:50:26.592976",
      "environment_variables": {},
      "exception": null,
      "input_path": "__notebook__.ipynb",
      "output_path": "__notebook__.ipynb",
      "parameters": {},
      "start_time": "2023-03-11T21:15:33.246540",
      "version": "2.4.0"
    }
  },
  "nbformat": 4,
  "nbformat_minor": 5
}
